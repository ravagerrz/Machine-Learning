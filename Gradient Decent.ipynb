{
 "cells": [
  {
   "cell_type": "code",
   "execution_count": 3,
   "metadata": {},
   "outputs": [],
   "source": [
    "import pandas as pd \n",
    "import numpy as np\n",
    "pathX = \"/home/ahmed/Downloads/machineLearning/AML_A1_Fall2020/dataX.csv\"\n",
    "pathY = \"/home/ahmed/Downloads/machineLearning/AML_A1_Fall2020/dataY.csv\"\n",
    "dataX = pd.read_csv(pathX) \n",
    "dataY = pd.read_csv(pathY) \n",
    "# dataY.head()\n",
    "def normalize(data):\n",
    "    minX = min(data)\n",
    "    maxX = max(data)\n",
    "    for ind in data.index:\n",
    "        result = (data[ind] - minX)/(maxX-minX)\n",
    "        data.loc[ind] = result\n",
    "normalize(dataX['Living Area'])\n",
    "normalize(dataX['No of Bedrooms'])\n",
    "normalize(dataY['Prices'])\n"
   ]
  },
  {
   "cell_type": "code",
   "execution_count": 4,
   "metadata": {},
   "outputs": [
    {
     "data": {
      "text/html": [
       "<div>\n",
       "<style scoped>\n",
       "    .dataframe tbody tr th:only-of-type {\n",
       "        vertical-align: middle;\n",
       "    }\n",
       "\n",
       "    .dataframe tbody tr th {\n",
       "        vertical-align: top;\n",
       "    }\n",
       "\n",
       "    .dataframe thead th {\n",
       "        text-align: right;\n",
       "    }\n",
       "</style>\n",
       "<table border=\"1\" class=\"dataframe\">\n",
       "  <thead>\n",
       "    <tr style=\"text-align: right;\">\n",
       "      <th></th>\n",
       "      <th>00</th>\n",
       "      <th>Living Area</th>\n",
       "      <th>No of Bedrooms</th>\n",
       "    </tr>\n",
       "  </thead>\n",
       "  <tbody>\n",
       "    <tr>\n",
       "      <th>0</th>\n",
       "      <td>1</td>\n",
       "      <td>0.345284</td>\n",
       "      <td>0.50</td>\n",
       "    </tr>\n",
       "    <tr>\n",
       "      <th>1</th>\n",
       "      <td>1</td>\n",
       "      <td>0.206288</td>\n",
       "      <td>0.50</td>\n",
       "    </tr>\n",
       "    <tr>\n",
       "      <th>2</th>\n",
       "      <td>1</td>\n",
       "      <td>0.426917</td>\n",
       "      <td>0.50</td>\n",
       "    </tr>\n",
       "    <tr>\n",
       "      <th>3</th>\n",
       "      <td>1</td>\n",
       "      <td>0.155543</td>\n",
       "      <td>0.25</td>\n",
       "    </tr>\n",
       "    <tr>\n",
       "      <th>4</th>\n",
       "      <td>1</td>\n",
       "      <td>0.592388</td>\n",
       "      <td>0.75</td>\n",
       "    </tr>\n",
       "    <tr>\n",
       "      <th>5</th>\n",
       "      <td>1</td>\n",
       "      <td>0.312466</td>\n",
       "      <td>0.75</td>\n",
       "    </tr>\n",
       "    <tr>\n",
       "      <th>6</th>\n",
       "      <td>1</td>\n",
       "      <td>0.188086</td>\n",
       "      <td>0.50</td>\n",
       "    </tr>\n",
       "    <tr>\n",
       "      <th>7</th>\n",
       "      <td>1</td>\n",
       "      <td>0.158577</td>\n",
       "      <td>0.50</td>\n",
       "    </tr>\n",
       "    <tr>\n",
       "      <th>8</th>\n",
       "      <td>1</td>\n",
       "      <td>0.145615</td>\n",
       "      <td>0.50</td>\n",
       "    </tr>\n",
       "    <tr>\n",
       "      <th>9</th>\n",
       "      <td>1</td>\n",
       "      <td>0.177055</td>\n",
       "      <td>0.50</td>\n",
       "    </tr>\n",
       "  </tbody>\n",
       "</table>\n",
       "</div>"
      ],
      "text/plain": [
       "   00  Living Area  No of Bedrooms\n",
       "0   1     0.345284            0.50\n",
       "1   1     0.206288            0.50\n",
       "2   1     0.426917            0.50\n",
       "3   1     0.155543            0.25\n",
       "4   1     0.592388            0.75\n",
       "5   1     0.312466            0.75\n",
       "6   1     0.188086            0.50\n",
       "7   1     0.158577            0.50\n",
       "8   1     0.145615            0.50\n",
       "9   1     0.177055            0.50"
      ]
     },
     "execution_count": 4,
     "metadata": {},
     "output_type": "execute_result"
    }
   ],
   "source": [
    "dataX = pd.concat([pd.Series(1, index=dataX.index, name='00'), dataX], axis=1)\n",
    "dataX.head(10)"
   ]
  },
  {
   "cell_type": "code",
   "execution_count": 5,
   "metadata": {},
   "outputs": [
    {
     "data": {
      "text/html": [
       "<div>\n",
       "<style scoped>\n",
       "    .dataframe tbody tr th:only-of-type {\n",
       "        vertical-align: middle;\n",
       "    }\n",
       "\n",
       "    .dataframe tbody tr th {\n",
       "        vertical-align: top;\n",
       "    }\n",
       "\n",
       "    .dataframe thead th {\n",
       "        text-align: right;\n",
       "    }\n",
       "</style>\n",
       "<table border=\"1\" class=\"dataframe\">\n",
       "  <thead>\n",
       "    <tr style=\"text-align: right;\">\n",
       "      <th></th>\n",
       "      <th>Prices</th>\n",
       "    </tr>\n",
       "  </thead>\n",
       "  <tbody>\n",
       "    <tr>\n",
       "      <th>0</th>\n",
       "      <td>0.433962</td>\n",
       "    </tr>\n",
       "    <tr>\n",
       "      <th>1</th>\n",
       "      <td>0.301887</td>\n",
       "    </tr>\n",
       "    <tr>\n",
       "      <th>2</th>\n",
       "      <td>0.375660</td>\n",
       "    </tr>\n",
       "    <tr>\n",
       "      <th>3</th>\n",
       "      <td>0.117170</td>\n",
       "    </tr>\n",
       "    <tr>\n",
       "      <th>4</th>\n",
       "      <td>0.698113</td>\n",
       "    </tr>\n",
       "    <tr>\n",
       "      <th>5</th>\n",
       "      <td>0.245283</td>\n",
       "    </tr>\n",
       "    <tr>\n",
       "      <th>6</th>\n",
       "      <td>0.273585</td>\n",
       "    </tr>\n",
       "    <tr>\n",
       "      <th>7</th>\n",
       "      <td>0.054904</td>\n",
       "    </tr>\n",
       "    <tr>\n",
       "      <th>8</th>\n",
       "      <td>0.079434</td>\n",
       "    </tr>\n",
       "    <tr>\n",
       "      <th>9</th>\n",
       "      <td>0.136981</td>\n",
       "    </tr>\n",
       "  </tbody>\n",
       "</table>\n",
       "</div>"
      ],
      "text/plain": [
       "     Prices\n",
       "0  0.433962\n",
       "1  0.301887\n",
       "2  0.375660\n",
       "3  0.117170\n",
       "4  0.698113\n",
       "5  0.245283\n",
       "6  0.273585\n",
       "7  0.054904\n",
       "8  0.079434\n",
       "9  0.136981"
      ]
     },
     "execution_count": 5,
     "metadata": {},
     "output_type": "execute_result"
    }
   ],
   "source": [
    "dataY.head(10)"
   ]
  },
  {
   "cell_type": "code",
   "execution_count": 6,
   "metadata": {},
   "outputs": [
    {
     "name": "stdout",
     "output_type": "stream",
     "text": [
      "47\n"
     ]
    }
   ],
   "source": [
    "m = len(dataX)\n",
    "print(m)"
   ]
  },
  {
   "cell_type": "code",
   "execution_count": 7,
   "metadata": {},
   "outputs": [],
   "source": [
    "def hypothesis(theta, X):\n",
    "#     print(theta*X)\n",
    "    return theta*X"
   ]
  },
  {
   "cell_type": "code",
   "execution_count": 8,
   "metadata": {},
   "outputs": [],
   "source": [
    "def computeCost(X, y, theta):\n",
    "    y1 = hypothesis(theta, X)\n",
    "    y1=np.sum(y1, axis=1)\n",
    "    return sum(np.sqrt((y1[0]-y['Prices'])**2))/(2*47)"
   ]
  },
  {
   "cell_type": "code",
   "execution_count": 9,
   "metadata": {},
   "outputs": [],
   "source": [
    "def gradientDescent(X, y, theta, alpha, i):\n",
    "    J = []\n",
    "    theta_arr = []\n",
    "    for l in range(0,i):       \n",
    "        hyp = hypothesis(theta, X)\n",
    "        hyp = np.sum(hyp, axis=1)\n",
    "        \n",
    "        \n",
    "        for c in range(0, len(X.columns)):\n",
    "            s = sum((hyp-y['Prices'])*X.iloc[:,c])\n",
    "            theta[c] = theta[c] - alpha*(s/47)\n",
    "        \n",
    "        j = computeCost(X, y, theta)\n",
    "        theta_arr.append(theta)\n",
    "        J.append(j)\n",
    "\n",
    "   \n",
    "    return J, j, theta"
   ]
  },
  {
   "cell_type": "markdown",
   "metadata": {},
   "source": [
    "## Driver"
   ]
  },
  {
   "cell_type": "code",
   "execution_count": 10,
   "metadata": {},
   "outputs": [],
   "source": [
    "J, j, theta = gradientDescent(dataX, dataY, [1,1,1], 0.05, 200)"
   ]
  },
  {
   "cell_type": "markdown",
   "metadata": {},
   "source": [
    "## Ploting"
   ]
  },
  {
   "cell_type": "code",
   "execution_count": 11,
   "metadata": {},
   "outputs": [
    {
     "data": {
      "image/png": "[encoded data removed]",
      "text/plain": [
       "<Figure size 432x288 with 1 Axes>"
      ]
     },
     "metadata": {
      "needs_background": "light"
     },
     "output_type": "display_data"
    },
    {
     "data": {
      "image/png": "[encoded data removed]",
      "text/plain": [
       "<Figure size 432x288 with 1 Axes>"
      ]
     },
     "metadata": {
      "needs_background": "light"
     },
     "output_type": "display_data"
    }
   ],
   "source": [
    "%matplotlib inline\n",
    "import matplotlib.pyplot as plt\n",
    "\n",
    "y_hat = hypothesis(theta, dataX)\n",
    "y_hat = np.sum(y_hat, axis=1)\n",
    "\n",
    "plt.figure()\n",
    "plt.scatter(x=list(range(0, 47)),y= dataY, color='blue', label='Original')         \n",
    "plt.scatter(x=list(range(0, 47)), y=y_hat, color='black', label='Predicted')\n",
    "plt.title('original y and the predicted output')\n",
    "plt.xlabel(\"No of training Examples\")\n",
    "plt.ylabel(\"Data Value\")\n",
    "plt.legend()\n",
    "plt.show()\n",
    "\n",
    "plt.figure()\n",
    "plt.scatter(x=list(range(0, 200)), y=J)\n",
    "plt.title('cost of each iteration')\n",
    "plt.xlabel(\"Iterations\")\n",
    "plt.ylabel(\"Cost\")\n",
    "plt.show()"
   ]
  },
  {
   "cell_type": "code",
   "execution_count": null,
   "metadata": {},
   "outputs": [],
   "source": []
  },
  {
   "cell_type": "code",
   "execution_count": null,
   "metadata": {},
   "outputs": [],
   "source": []
  },
  {
   "cell_type": "code",
   "execution_count": null,
   "metadata": {},
   "outputs": [],
   "source": []
  },
  {
   "cell_type": "code",
   "execution_count": null,
   "metadata": {},
   "outputs": [],
   "source": []
  },
  {
   "cell_type": "code",
   "execution_count": null,
   "metadata": {},
   "outputs": [],
   "source": []
  },
  {
   "cell_type": "code",
   "execution_count": null,
   "metadata": {},
   "outputs": [],
   "source": []
  },
  {
   "cell_type": "code",
   "execution_count": null,
   "metadata": {},
   "outputs": [],
   "source": []
  },
  {
   "cell_type": "code",
   "execution_count": 16,
   "metadata": {},
   "outputs": [
    {
     "ename": "SyntaxError",
     "evalue": "invalid syntax (<ipython-input-16-876e00307b98>, line 40)",
     "output_type": "error",
     "traceback": [
      "\u001b[0;36m  File \u001b[0;32m\"<ipython-input-16-876e00307b98>\"\u001b[0;36m, line \u001b[0;32m40\u001b[0m\n\u001b[0;31m    tmp[i].extend(row + [0]i + [1] + [0](len(a)-i-1))\u001b[0m\n\u001b[0m                           ^\u001b[0m\n\u001b[0;31mSyntaxError\u001b[0m\u001b[0;31m:\u001b[0m invalid syntax\n"
     ]
    }
   ],
   "source": [
    "\n",
    "import csv\n",
    "import os\n",
    "import numpy as np\n",
    "with open(\"/home/ahmed/Desktop/chinease/DataX.csv\", 'r') as f:\n",
    "    x = list(csv.reader(f, delimiter=\",\"))\n",
    "x = np.array(x[0:],dtype=np.float)\n",
    "f.close();\n",
    "with open(\"/home/ahmed/Desktop/chinease/DataY.csv\", 'r') as f:\n",
    "    y = list(csv.reader(f, delimiter=\",\"))\n",
    "y = np.array(y[0:],dtype=np.float)\n",
    "f.close()\n",
    "def eliminate(r1, r2, col, target=0):\n",
    "    fac = (r2[col]-target) / r1[col]\n",
    "    for i in range(len(r2)):\n",
    "        r2[i] -= fac * r1[i]\n",
    "\n",
    "def gauss(a):\n",
    "    for i in range(len(a)):\n",
    "        if a[i][i] == 0:\n",
    "            for j in range(i+1, len(a)):\n",
    "                if a[i][j] != 0:\n",
    "                    a[i], a[j] = a[j], a[i]\n",
    "                    break\n",
    "            else:\n",
    "                print(\"MATRIX NOT INVERTIBLE\")\n",
    "                return -1\n",
    "        for j in range(i+1, len(a)):\n",
    "            eliminate(a[i], a[j], i)\n",
    "    for i in range(len(a)-1, -1, -1):\n",
    "        for j in range(i-1, -1, -1):\n",
    "            eliminate(a[i], a[j], i)\n",
    "    for i in range(len(a)):\n",
    "        eliminate(a[i], a[i], i, target=1)\n",
    "    return a\n",
    "\n",
    "def inverse(a):\n",
    "    tmp = [[] for _ in a]\n",
    "    for i,row in enumerate(a):\n",
    "        assert len(row) == len(a)\n",
    "        tmp[i].extend(row + [0]i + [1] + [0](len(a)-i-1))\n",
    "    gauss(tmp)\n",
    "    ret = []\n",
    "    for i in range(len(tmp)):\n",
    "        ret.append(tmp[i][len(tmp[i])//2:])\n",
    "    return ret\n",
    "lst = x.tolist()\n",
    "for i in range(47):\n",
    "    lst[i].insert(0,1)\n",
    "arr = np.array(lst)\n",
    "transpose = [[0]*47]*3\n",
    "inv = [[0]*3]*3\n",
    "transpose = [[arr[j][i] for j in range(len(arr))] for i in range(len(arr[0]))]\n",
    "multiply1 = np.matmul(transpose,arr)\n",
    "multiply2 = np.matmul(transpose,y)\n",
    "lst2 = multiply1.tolist()\n",
    "inv = inverse(lst2)\n",
    "arr1=np.array(inv)\n",
    "result = np.matmul(arr1,multiply2)\n",
    "print(result)"
   ]
  },
  {
   "cell_type": "code",
   "execution_count": null,
   "metadata": {},
   "outputs": [],
   "source": []
  },
  {
   "cell_type": "code",
   "execution_count": null,
   "metadata": {},
   "outputs": [],
   "source": []
  }
 ],
 "metadata": {
  "kernelspec": {
   "display_name": "Python 3",
   "language": "python",
   "name": "python3"
  },
  "language_info": {
   "codemirror_mode": {
    "name": "ipython",
    "version": 3
   },
   "file_extension": ".py",
   "mimetype": "text/x-python",
   "name": "python",
   "nbconvert_exporter": "python",
   "pygments_lexer": "ipython3",
   "version": "3.6.8"
  }
 },
 "nbformat": 4,
 "nbformat_minor": 2
}
