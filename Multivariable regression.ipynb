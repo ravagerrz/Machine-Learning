{
 "cells": [
  {
   "cell_type": "code",
   "execution_count": 17,
   "metadata": {},
   "outputs": [
    {
     "data": {
      "text/html": [
       "<div>\n",
       "<style scoped>\n",
       "    .dataframe tbody tr th:only-of-type {\n",
       "        vertical-align: middle;\n",
       "    }\n",
       "\n",
       "    .dataframe tbody tr th {\n",
       "        vertical-align: top;\n",
       "    }\n",
       "\n",
       "    .dataframe thead th {\n",
       "        text-align: right;\n",
       "    }\n",
       "</style>\n",
       "<table border=\"1\" class=\"dataframe\">\n",
       "  <thead>\n",
       "    <tr style=\"text-align: right;\">\n",
       "      <th></th>\n",
       "      <th>00</th>\n",
       "      <th>Living Area</th>\n",
       "      <th>No of Bedrooms</th>\n",
       "    </tr>\n",
       "  </thead>\n",
       "  <tbody>\n",
       "    <tr>\n",
       "      <th>0</th>\n",
       "      <td>1</td>\n",
       "      <td>0.345284</td>\n",
       "      <td>0.50</td>\n",
       "    </tr>\n",
       "    <tr>\n",
       "      <th>1</th>\n",
       "      <td>1</td>\n",
       "      <td>0.206288</td>\n",
       "      <td>0.50</td>\n",
       "    </tr>\n",
       "    <tr>\n",
       "      <th>2</th>\n",
       "      <td>1</td>\n",
       "      <td>0.426917</td>\n",
       "      <td>0.50</td>\n",
       "    </tr>\n",
       "    <tr>\n",
       "      <th>3</th>\n",
       "      <td>1</td>\n",
       "      <td>0.155543</td>\n",
       "      <td>0.25</td>\n",
       "    </tr>\n",
       "    <tr>\n",
       "      <th>4</th>\n",
       "      <td>1</td>\n",
       "      <td>0.592388</td>\n",
       "      <td>0.75</td>\n",
       "    </tr>\n",
       "    <tr>\n",
       "      <th>5</th>\n",
       "      <td>1</td>\n",
       "      <td>0.312466</td>\n",
       "      <td>0.75</td>\n",
       "    </tr>\n",
       "    <tr>\n",
       "      <th>6</th>\n",
       "      <td>1</td>\n",
       "      <td>0.188086</td>\n",
       "      <td>0.50</td>\n",
       "    </tr>\n",
       "    <tr>\n",
       "      <th>7</th>\n",
       "      <td>1</td>\n",
       "      <td>0.158577</td>\n",
       "      <td>0.50</td>\n",
       "    </tr>\n",
       "    <tr>\n",
       "      <th>8</th>\n",
       "      <td>1</td>\n",
       "      <td>0.145615</td>\n",
       "      <td>0.50</td>\n",
       "    </tr>\n",
       "    <tr>\n",
       "      <th>9</th>\n",
       "      <td>1</td>\n",
       "      <td>0.177055</td>\n",
       "      <td>0.50</td>\n",
       "    </tr>\n",
       "  </tbody>\n",
       "</table>\n",
       "</div>"
      ],
      "text/plain": [
       "   00  Living Area  No of Bedrooms\n",
       "0   1     0.345284            0.50\n",
       "1   1     0.206288            0.50\n",
       "2   1     0.426917            0.50\n",
       "3   1     0.155543            0.25\n",
       "4   1     0.592388            0.75\n",
       "5   1     0.312466            0.75\n",
       "6   1     0.188086            0.50\n",
       "7   1     0.158577            0.50\n",
       "8   1     0.145615            0.50\n",
       "9   1     0.177055            0.50"
      ]
     },
     "execution_count": 17,
     "metadata": {},
     "output_type": "execute_result"
    }
   ],
   "source": [
    "import pandas as pd \n",
    "import numpy as np\n",
    "pathX = \"/home/ahmed/Downloads/machineLearning/AML_A1_Fall2020/dataX.csv\"\n",
    "pathY = \"/home/ahmed/Downloads/machineLearning/AML_A1_Fall2020/dataY.csv\"\n",
    "dataX = pd.read_csv(pathX) \n",
    "dataY = pd.read_csv(pathY) \n",
    "# dataY.head()\n",
    "def normalize(data):\n",
    "    minX = min(data)\n",
    "    maxX = max(data)\n",
    "    for ind in data.index:\n",
    "        result = (data[ind] - minX)/(maxX-minX)\n",
    "        data.loc[ind] = result\n",
    "normalize(dataX['Living Area'])\n",
    "normalize(dataX['No of Bedrooms'])\n",
    "normalize(dataY['Prices'])\n",
    "dataX = pd.concat([pd.Series(1, index=dataX.index, name='00'), dataX], axis=1)\n",
    "dataX.head(10)"
   ]
  },
  {
   "cell_type": "code",
   "execution_count": 18,
   "metadata": {},
   "outputs": [],
   "source": [
    "def hypothesis(theta, X):\n",
    "#     print(theta*X)\n",
    "    return theta*X"
   ]
  },
  {
   "cell_type": "code",
   "execution_count": 24,
   "metadata": {},
   "outputs": [
    {
     "name": "stdout",
     "output_type": "stream",
     "text": [
      "[[89802.89126616]\n",
      " [  138.97279961]\n",
      " [-8640.30461447]]\n"
     ]
    }
   ],
   "source": [
    "import csv\n",
    "import os\n",
    "import numpy as np\n",
    "with open(\"/home/ahmed/Desktop/chinease/DataX.csv\", 'r') as f:\n",
    "    x = list(csv.reader(f, delimiter=\",\"))\n",
    "x = np.array(x[0:],dtype=np.float)\n",
    "f.close();\n",
    "with open(\"/home/ahmed/Desktop/chinease/DataY.csv\", 'r') as f:\n",
    "    y = list(csv.reader(f, delimiter=\",\"))\n",
    "y = np.array(y[0:],dtype=np.float)\n",
    "f.close()\n",
    "def eliminate(r1, r2, col, target=0):\n",
    "    fac = (r2[col]-target) / r1[col]\n",
    "    for i in range(len(r2)):\n",
    "        r2[i] -= fac * r1[i]\n",
    "\n",
    "def gauss(a):\n",
    "    for i in range(len(a)):\n",
    "        if a[i][i] == 0:\n",
    "            for j in range(i+1, len(a)):\n",
    "                if a[i][j] != 0:\n",
    "                    a[i], a[j] = a[j], a[i]\n",
    "                    break\n",
    "            else:\n",
    "                print(\"MATRIX NOT INVERTIBLE\")\n",
    "                return -1\n",
    "        for j in range(i+1, len(a)):\n",
    "            eliminate(a[i], a[j], i)\n",
    "    for i in range(len(a)-1, -1, -1):\n",
    "        for j in range(i-1, -1, -1):\n",
    "            eliminate(a[i], a[j], i)\n",
    "    for i in range(len(a)):\n",
    "        eliminate(a[i], a[i], i, target=1)\n",
    "    return a\n",
    "\n",
    "def inverse(a):\n",
    "    tmp = [[] for _ in a]\n",
    "    for i,row in enumerate(a):\n",
    "        assert len(row) == len(a)\n",
    "        tmp[i].extend(row + [0]*i + [1] + [0]*(len(a)-i-1))\n",
    "    gauss(tmp)\n",
    "    ret = []\n",
    "    for i in range(len(tmp)):\n",
    "        ret.append(tmp[i][len(tmp[i])//2:])\n",
    "    return ret\n",
    "lst = x.tolist()\n",
    "for i in range(47):\n",
    "    lst[i].insert(0,1)\n",
    "arr = np.array(lst)\n",
    "transpose = [[0]*47]*3\n",
    "inv = [[0]*3]*3\n",
    "transpose = [[arr[j][i] for j in range(len(arr))] for i in range(len(arr[0]))]\n",
    "multiply1 = np.matmul(transpose,arr)\n",
    "multiply2 = np.matmul(transpose,y)\n",
    "lst2 = multiply1.tolist()\n",
    "inv = inverse(lst2)\n",
    "arr1=np.array(inv)\n",
    "result = np.matmul(arr1,multiply2)\n",
    "print(result)"
   ]
  },
  {
   "cell_type": "code",
   "execution_count": 21,
   "metadata": {},
   "outputs": [
    {
     "name": "stdout",
     "output_type": "stream",
     "text": [
      "[89802.8912661625, 138.97279961177128, -8640.304614474531]\n"
     ]
    }
   ],
   "source": [
    "l = []\n",
    "for i in result:\n",
    "    l.append(i[0])\n",
    "print(l)\n",
    "y_hat = hypothesis(l, dataX)\n",
    "y_hat = np.sum(y_hat, axis=1)"
   ]
  },
  {
   "cell_type": "code",
   "execution_count": 23,
   "metadata": {},
   "outputs": [
    {
     "data": {
      "image/png": "[encoded data removed]",
      "text/plain": [
       "<Figure size 432x288 with 1 Axes>"
      ]
     },
     "metadata": {
      "needs_background": "light"
     },
     "output_type": "display_data"
    },
    {
     "ename": "NameError",
     "evalue": "name 'J' is not defined",
     "output_type": "error",
     "traceback": [
      "\u001b[0;31m---------------------------------------------------------------------------\u001b[0m",
      "\u001b[0;31mNameError\u001b[0m                                 Traceback (most recent call last)",
      "\u001b[0;32m<ipython-input-23-fa1ef26b48f9>\u001b[0m in \u001b[0;36m<module>\u001b[0;34m\u001b[0m\n\u001b[1;32m     11\u001b[0m \u001b[0;34m\u001b[0m\u001b[0m\n\u001b[1;32m     12\u001b[0m \u001b[0mplt\u001b[0m\u001b[0;34m.\u001b[0m\u001b[0mfigure\u001b[0m\u001b[0;34m(\u001b[0m\u001b[0;34m)\u001b[0m\u001b[0;34m\u001b[0m\u001b[0;34m\u001b[0m\u001b[0m\n\u001b[0;32m---> 13\u001b[0;31m \u001b[0mplt\u001b[0m\u001b[0;34m.\u001b[0m\u001b[0mscatter\u001b[0m\u001b[0;34m(\u001b[0m\u001b[0mx\u001b[0m\u001b[0;34m=\u001b[0m\u001b[0mlist\u001b[0m\u001b[0;34m(\u001b[0m\u001b[0mrange\u001b[0m\u001b[0;34m(\u001b[0m\u001b[0;36m0\u001b[0m\u001b[0;34m,\u001b[0m \u001b[0;36m200\u001b[0m\u001b[0;34m)\u001b[0m\u001b[0;34m)\u001b[0m\u001b[0;34m,\u001b[0m \u001b[0my\u001b[0m\u001b[0;34m=\u001b[0m\u001b[0mJ\u001b[0m\u001b[0;34m)\u001b[0m\u001b[0;34m\u001b[0m\u001b[0;34m\u001b[0m\u001b[0m\n\u001b[0m\u001b[1;32m     14\u001b[0m \u001b[0mplt\u001b[0m\u001b[0;34m.\u001b[0m\u001b[0mtitle\u001b[0m\u001b[0;34m(\u001b[0m\u001b[0;34m'cost of each iteration'\u001b[0m\u001b[0;34m)\u001b[0m\u001b[0;34m\u001b[0m\u001b[0;34m\u001b[0m\u001b[0m\n\u001b[1;32m     15\u001b[0m \u001b[0mplt\u001b[0m\u001b[0;34m.\u001b[0m\u001b[0mxlabel\u001b[0m\u001b[0;34m(\u001b[0m\u001b[0;34m\"Iterations\"\u001b[0m\u001b[0;34m)\u001b[0m\u001b[0;34m\u001b[0m\u001b[0;34m\u001b[0m\u001b[0m\n",
      "\u001b[0;31mNameError\u001b[0m: name 'J' is not defined"
     ]
    },
    {
     "data": {
      "text/plain": [
       "<Figure size 432x288 with 0 Axes>"
      ]
     },
     "metadata": {},
     "output_type": "display_data"
    }
   ],
   "source": [
    "%matplotlib inline\n",
    "import matplotlib.pyplot as plt\n",
    "plt.figure()\n",
    "plt.scatter(x=list(range(0, 47)),y= dataY, color='blue', label='Original')         \n",
    "plt.scatter(x=list(range(0, 47)), y=y_hat, color='black', label='Predicted')\n",
    "plt.title('original y and the predicted output')\n",
    "plt.xlabel(\"No of training Examples\")\n",
    "plt.ylabel(\"Data Value\")\n",
    "plt.legend()\n",
    "plt.show()\n"
   ]
  },
  {
   "cell_type": "code",
   "execution_count": null,
   "metadata": {},
   "outputs": [],
   "source": []
  }
 ],
 "metadata": {
  "kernelspec": {
   "display_name": "Python 3",
   "language": "python",
   "name": "python3"
  },
  "language_info": {
   "codemirror_mode": {
    "name": "ipython",
    "version": 3
   },
   "file_extension": ".py",
   "mimetype": "text/x-python",
   "name": "python",
   "nbconvert_exporter": "python",
   "pygments_lexer": "ipython3",
   "version": "3.6.8"
  }
 },
 "nbformat": 4,
 "nbformat_minor": 2
}
